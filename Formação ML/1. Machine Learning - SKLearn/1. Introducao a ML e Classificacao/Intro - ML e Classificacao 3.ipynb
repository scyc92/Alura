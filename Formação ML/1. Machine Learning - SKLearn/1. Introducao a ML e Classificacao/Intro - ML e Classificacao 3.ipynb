{
 "cells": [
  {
   "cell_type": "code",
   "execution_count": null,
   "metadata": {},
   "outputs": [],
   "source": [
    "import pandas as pd\n",
    "\n",
    "url = \"https://gist.githubusercontent.com/guilhermesilveira/1b7d5475863c15f484ac495bd70975cf/raw/16aff7a0aee67e7c100a2a48b676a2d2d142f646/projects.csv\"\n",
    "\n",
    "df = pd.read_csv(url)\n",
    "df.head()"
   ]
  },
  {
   "cell_type": "code",
   "execution_count": null,
   "metadata": {},
   "outputs": [],
   "source": [
    "# Queremos trabalhar com os nomes das tabelas em português, portanto renomearemos os títulos por meio do método rename(), \n",
    "# passando paras as colunas as definições que escreveremos em uma variável a_renomear.\n",
    "\n",
    "a_renomear = {\n",
    "    'expected_hours' : 'horas_esperadas',\n",
    "    'price' : 'preco',\n",
    "    'unfinished' : 'nao_finalizado'\n",
    "}\n",
    "df = df.rename(columns = a_renomear)\n",
    "df.head()"
   ]
  },
  {
   "cell_type": "code",
   "execution_count": null,
   "metadata": {},
   "outputs": [],
   "source": [
    "# Contudo, a coluna nao_finalizado pode gerar confusões, afinal 0 seriam os projetos finalizados e 1 os não finalizados. \n",
    "# Podemos organizar as nossas features com mais clareza de forma a evitar erros no desenvolvimento do projeto.\n",
    "# Criaremos uma nova coluna chamada finalizados, e trocaremos os valores 0 e 1, invertendo a função deles nesta coluna.\n",
    "\n",
    "troca = {\n",
    "    0 : 1,\n",
    "    1 : 0\n",
    "}\n",
    "df['finalizado'] = df.nao_finalizado.map(troca)\n",
    "df.head()"
   ]
  },
  {
   "cell_type": "code",
   "execution_count": null,
   "metadata": {},
   "outputs": [],
   "source": [
    "# O que queremos agora é visualizar as informações de outra forma. \n",
    "# No projeto anterior, havia três features e um y. \n",
    "# Neste caso, temos duas features (horas_esperadas e preco) e a classificação (finalizado).\n",
    "\n",
    "# Com essas duas features, podemos desenhar em um eixo as horas_esperadas e em outro o preco. \n",
    "# Para isso, usaremos uma famosa biblioteca do Python chamada Seaborn. \n",
    "# Vamos importá-la como sns (que é a importação padrão), e plotaremos os pontos distribuídos por meio do scatterplot().\n",
    "\n",
    "# Para este método, precisamos passar o parâmetro referente às coluna x (horas_esperadas) e y (preco). \n",
    "# Por fim, devemos passar os dados, de onde vem nosso dataframe do Pandas.\n",
    "\n",
    "import seaborn as sns\n",
    "\n",
    "sns.scatterplot(x=\"horas_esperadas\", y=\"preco\", data=df)\n"
   ]
  },
  {
   "cell_type": "code",
   "execution_count": null,
   "metadata": {},
   "outputs": [],
   "source": [
    "# Existem várias maneiras de tentarmos visualizar as duas classes (0 ou 1 para finalizado) no gráfico. Uma delas é por meio de cores. \n",
    "# Utilizaremos a mesma estrutura do método scatterplot, mas dessa vez passando o parâmetro hue, que será baseado na coluna finalizado, pintando os pontos de acordo com a classe atribuída à essa coluna:\n",
    "\n",
    "sns.scatterplot(x=\"horas_esperadas\", y=\"preco\", hue=\"finalizado\", data=df)\n"
   ]
  },
  {
   "cell_type": "code",
   "execution_count": null,
   "metadata": {},
   "outputs": [],
   "source": [
    "sns.relplot(x=\"horas_esperadas\", y=\"preco\", col=\"finalizado\", data=df)"
   ]
  },
  {
   "cell_type": "code",
   "execution_count": null,
   "metadata": {},
   "outputs": [],
   "source": [
    "sns.relplot(x=\"horas_esperadas\", y=\"preco\", hue=\"finalizado\", col=\"finalizado\", data=df)\n"
   ]
  },
  {
   "cell_type": "code",
   "execution_count": null,
   "metadata": {},
   "outputs": [],
   "source": [
    "# Nosso próximo passo é realizar a modelagem. \n",
    "# Primeiro, coletaremos nossos dados no eixo x, que são as colunas horas_esperadas e preco. \n",
    "# Em seguida, o eixo y, referente à coluna finalizado.\n",
    "\n",
    "x = df[['horas_esperadas', 'preco']]\n",
    "y = df['finalizado']\n"
   ]
  },
  {
   "cell_type": "code",
   "execution_count": null,
   "metadata": {},
   "outputs": [],
   "source": [
    "# Agora criaremos um modelo, separaremos os dados de treino e teste, treinaremos efetivamente o modelo e por fim verificaremos a taxa de acerto.\n",
    "\n",
    "from sklearn.model_selection import train_test_split\n",
    "from sklearn.svm import LinearSVC\n",
    "from sklearn.metrics import accuracy_score\n",
    "\n",
    "train_x, test_x, train_y, test_y = train_test_split(x, y, random_state = 42, test_size = 0.25,stratify = y)\n",
    "print(\"Treinaremos com %d elementos e testaremos com %d elementos\" % (len(train_x), len(test_x)))\n",
    "\n",
    "modelo = LinearSVC()\n",
    "modelo.fit(train_x, train_y)\n",
    "previsoes = modelo.predict(test_x)\n",
    "\n",
    "acuracia = accuracy_score(test_y, previsoes) * 100\n",
    "print(\"A acurácia foi %.2f%%\" % acuracia)"
   ]
  },
  {
   "cell_type": "code",
   "execution_count": null,
   "metadata": {},
   "outputs": [],
   "source": [
    "# Para obtermos uma resposta satisfatória, precisamos de um recurso comparativo. \n",
    "# Portanto, inventaremos um algoritmo bem simples que terá como previsão que todos os projetos são finalizados, isto é, os 540 elementos de teste serão 1.\n",
    "# Com o Numpy, a biblioteca que gera matrizes, faremos com que 540 elementos tenham o valor 1. \n",
    "# Feito isso, estipularemos que essas são as previsões, as chamaremos de previsoes_sam, e testaremos sua acurácia.\n",
    "\n",
    "import numpy as np\n",
    "previsoes_sam = np.ones(540)\n",
    "acuracia = accuracy_score(test_y, previsoes_sam) * 100\n",
    "print(\"A acurácia foi %.2f%%\" % acuracia)"
   ]
  },
  {
   "cell_type": "code",
   "execution_count": null,
   "metadata": {},
   "outputs": [],
   "source": [
    "# Agora iremos analisar cada uma das classificações que realizamos. \n",
    "# Para isso, copiaremos o mesmo código de scatterplot() que utilizamos anteriormente, mas, ao invés de df, usaremos test_x. \n",
    "# Também precisaremos alterar o campo que serve de parâmetro para hue - no caso, test_y.\n",
    "\n",
    "sns.scatterplot(x=\"horas_esperadas\", y=\"preco\", hue=test_y, data=test_x) \n"
   ]
  },
  {
   "cell_type": "code",
   "execution_count": null,
   "metadata": {},
   "outputs": [],
   "source": [
    "x_min = test_x.horas_esperadas.min()\n",
    "x_max = test_x.horas_esperadas.max()\n",
    "y_min = test_x.preco.min()\n",
    "y_max = test_x.preco.max()\n",
    "print(x_min, x_max,y_min,y_max)"
   ]
  },
  {
   "cell_type": "code",
   "execution_count": null,
   "metadata": {},
   "outputs": [],
   "source": [
    "# O x está indo de 1 a 100, enquanto y varia de 101 a 27738. \n",
    "# Agora definiremos quantos pixels haverá em cada dimensão; \n",
    "# se multiplicamos 100 x 100, isto é, 100 pixels para cada dimensão (altura e largura), # teremos um total de 10.000 pontos, o que é o suficiente.\n",
    "# Entre x_min e x_max, cada espaço terá o tamanho máximo do gráfico dividido pelo total de pixels ((x_max - x_min)/pixels.\n",
    "# Adicionaremos o método arange() da biblioteca do Numpy.\n",
    "\n",
    "pixels = 100\n",
    "np.arange(x_min, x_max, (x_max - x_min)/pixels)"
   ]
  },
  {
   "cell_type": "code",
   "execution_count": null,
   "metadata": {},
   "outputs": [],
   "source": [
    "# A partir de 1, foram realizadas somas de 0.99 até chegar ao número 99.01, dividindo proporcionalmente o espaço do eixo_x no gráfico. \n",
    "# Faremos o mesmo procedimento para o eixo_y, aproveitando para nomear cada uma dessas operações:\n",
    "\n",
    "pixels = 100\n",
    "eixo_x = np.arange(x_min, x_max, (x_max - x_min)/ pixels)\n",
    "eixo_y = np.arange(y_min, y_max, (y_max - y_min)/ pixels)\n"
   ]
  },
  {
   "cell_type": "code",
   "execution_count": null,
   "metadata": {},
   "outputs": [],
   "source": [
    "# Agora a ideia é criarmos um grid entre os dois eixos, multiplicando as opções de acordo com as diferentes possibilidade de custo de projeto e tempo de execução. \n",
    "# Temos na biblioteca do Numpy o np.meshgrid(), que consegue mesclar um grid . \n",
    "# Esse método recebe como parâmetros o eixo_x e eixo_y, e devolve o conteúdo é xx e yy. Vamos analisar xx:\n",
    "\n",
    "xx, yy = np.meshgrid(eixo_x, eixo_y)\n",
    "xx"
   ]
  },
  {
   "cell_type": "code",
   "execution_count": null,
   "metadata": {},
   "outputs": [],
   "source": [
    "# Com o código estruturado desta maneira, o que temos é a repetição do eixo x 100 vezes, e o mesmo ocorre com eixo y.\n",
    "#  Ou seja, ainda não mesclamos realmente esses dados. Para fazermos isso, usaremos o xx.ravel():\n",
    "\n",
    "xx, yy = np.meshgrid(eixo_x, eixo_y)\n",
    "xx.ravel()"
   ]
  },
  {
   "cell_type": "code",
   "execution_count": null,
   "metadata": {},
   "outputs": [],
   "source": [
    "# Faremos o mesmo procedimento para yy, e então concatenaremos xx e yy por meio de np.c_. Essa operação nos devolverá os pontos.\n",
    "\n",
    "xx, yy = np.meshgrid(eixo_x, eixo_y)\n",
    "pontos = np.c_[xx.ravel(), yy.ravel()]\n",
    "pontos"
   ]
  },
  {
   "cell_type": "code",
   "execution_count": null,
   "metadata": {},
   "outputs": [],
   "source": [
    "# Agora, nosso trabalho é, a partir do modelo, fazer as previsões (predict()) para todos esses pontos. \n",
    "# Como resultado, teremos uma série de números, que são as classificações. Chamaremos essas classificações de Z.\n",
    "\n",
    "Z = modelo.predict(pontos)"
   ]
  },
  {
   "cell_type": "code",
   "execution_count": null,
   "metadata": {},
   "outputs": [],
   "source": [
    "# Precisamos nos atentar para o formato (shape) do array, que é 10000, mas se analisarmos xx, verificaremos que suas dimensões são 100, 100\n",
    "\n",
    "Z.shape"
   ]
  },
  {
   "cell_type": "code",
   "execution_count": null,
   "metadata": {},
   "outputs": [],
   "source": [
    "xx.shape"
   ]
  },
  {
   "cell_type": "code",
   "execution_count": null,
   "metadata": {},
   "outputs": [],
   "source": [
    "# Redimensionar (reshape) o array de 10000 de acordo com xx.\n",
    "Z = Z.reshape(xx.shape)\n",
    "Z"
   ]
  },
  {
   "cell_type": "code",
   "execution_count": null,
   "metadata": {},
   "outputs": [],
   "source": [
    "# Plotar esses dados. \n",
    "# Para isso, usaremos a biblioteca Matplotlib.\n",
    "# Novamente, queremos que os pontos sejam espalhados (scatter()), mas não usaremos o scatterplot() do Seaborn pois, nesse caso, queremos um controle mais refinado dessa plotagem.\n",
    "\n",
    "import matplotlib.pyplot as plt\n",
    "\n",
    "plt.scatter(test_x.horas_esperadas, test_x.preco, c=test_y)\n"
   ]
  },
  {
   "cell_type": "code",
   "execution_count": null,
   "metadata": {},
   "outputs": [],
   "source": [
    "# Reduzir o tamanho dos pontos e melhorar a visualização dos dados, usar o parâmetro s=1 (de size):\n",
    "\n",
    "import matplotlib.pyplot as plt\n",
    "\n",
    "plt.scatter(test_x.horas_esperadas, test_x.preco, c=test_y, s=1)\n"
   ]
  },
  {
   "cell_type": "code",
   "execution_count": null,
   "metadata": {},
   "outputs": [],
   "source": [
    "# Já temos o plot básico, a próxima tarefa é desenhar a classificação que estipulamos: se o valor for 0, pintaremos de uma cor, se for 1, de outra.\n",
    "# Além disso, entre esses números, adicionar uma cor diferente para visualizar a curva que separa as duas classificações do algoritmo.\n",
    "# Para tanto, usar plt.contourf() (de countor, ou \"contorno\"), que receberá xx, yy e Z. \n",
    "# Para que a tonalidade não seja muito forte, escrever alpha=0.3, aumentando a transparência.\n",
    "\n",
    "plt.contourf(xx, yy, Z, alpha=0.3)\n",
    "plt.scatter(test_x.horas_esperadas, test_x.preco, c=test_y, s=1)\n"
   ]
  },
  {
   "cell_type": "markdown",
   "metadata": {},
   "source": [
    "## Neste codigo aprendemos a:\n",
    "\n",
    " - Trocar valores;\n",
    " - Usar a biblioteca seaborn;\n",
    " - Gerar um gráfico com dados do CSV;\n",
    " - Definir cores no gráfico;\n",
    " - Gerar gráficos distintos;\n",
    " - Criação de um algoritmo base;\n",
    " - Capturar os valores mínimos e máximos.\n",
    " - Utilizar a função arange do numpy"
   ]
  }
 ],
 "metadata": {
  "kernelspec": {
   "display_name": "Python 3.8.5 ('base')",
   "language": "python",
   "name": "python3"
  },
  "language_info": {
   "codemirror_mode": {
    "name": "ipython",
    "version": 3
   },
   "file_extension": ".py",
   "mimetype": "text/x-python",
   "name": "python",
   "nbconvert_exporter": "python",
   "pygments_lexer": "ipython3",
   "version": "3.8.5"
  },
  "orig_nbformat": 4,
  "vscode": {
   "interpreter": {
    "hash": "aa78f220c8b495e8175ca0ad6a849d4c04562669a4c77189c1287bee3249b03a"
   }
  }
 },
 "nbformat": 4,
 "nbformat_minor": 2
}
